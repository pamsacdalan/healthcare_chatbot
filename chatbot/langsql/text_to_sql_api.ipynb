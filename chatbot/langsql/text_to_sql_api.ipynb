{
 "cells": [
  {
   "cell_type": "code",
   "execution_count": 15,
   "metadata": {},
   "outputs": [],
   "source": [
    "import requests\n",
    "import json"
   ]
  },
  {
   "cell_type": "code",
   "execution_count": 19,
   "metadata": {},
   "outputs": [],
   "source": [
    "prompt = \"List dentists who are available on both Tuesdays and Thursdays along with their contact numbers.\"\n",
    "context = \"CREATE TABLE app_dentist ( id int8, dentist_name varchar(128) NULL, clinic_name varchar(500) NULL, address varchar(500) NULL, city_town varchar(500) NULL, province varchar(500) NULL, region varchar(500) NULL, zip_code int4 NULL, contact_number varchar(128) NULL, monday_start int4 NULL, monday_end int4 NULL, tuesday_start int4 NULL, tuesday_end int4 NULL, wednesday_start int4 NULL, wednesday_end int4 NULL, thursday_start int4 NULL, thursday_end int4 NULL, friday_start int4 NULL, friday_end int4 NULL, saturday_start int4 NULL, saturday_end int4 NULL, sunday_start int4 NULL, sunday_end int4 NULL, );\"\n",
    "payload= {'prompt':prompt, 'schema':context}\n",
    "\n",
    "response = requests.post('https://www.eversql.com/api/generateSQLFromText/',data=payload)"
   ]
  },
  {
   "cell_type": "code",
   "execution_count": 20,
   "metadata": {},
   "outputs": [
    {
     "name": "stdout",
     "output_type": "stream",
     "text": [
      "\"SELECT dentist_name, contact_number\\nFROM app_dentist\\nWHERE tuesday_start IS NOT NULL AND tuesday_end IS NOT NULL\\nAND thursday_start IS NOT NULL AND thursday_end IS NOT NULL;\"\n"
     ]
    }
   ],
   "source": [
    "print(response.text)"
   ]
  },
  {
   "cell_type": "markdown",
   "metadata": {},
   "source": [
    "Ayaw ko na magtrain ng model, call na lang tayo sa API 🤷🏽‍♂️"
   ]
  },
  {
   "cell_type": "code",
   "execution_count": 21,
   "metadata": {},
   "outputs": [],
   "source": [
    "# Transforming api to function, taking in query and schema as argument\n",
    "\n",
    "def text_to_sql(prompt,schema):\n",
    "    payload = {'prompt':prompt, 'schema':schema}\n",
    "    response = requests.post('https://www.eversql.com/api/generateSQLFromText/',data=payload)\n",
    "    return response.text"
   ]
  },
  {
   "cell_type": "code",
   "execution_count": 22,
   "metadata": {},
   "outputs": [
    {
     "name": "stdout",
     "output_type": "stream",
     "text": [
      "\"SELECT clinic_name\\nFROM app_dentist\\nWHERE saturday_start IS NOT NULL OR sunday_start IS NOT NULL;\"\n"
     ]
    }
   ],
   "source": [
    "schema = \"CREATE TABLE app_dentist ( id int8, dentist_name varchar(128) NULL, clinic_name varchar(500) NULL, address varchar(500) NULL, city_town varchar(500) NULL, province varchar(500) NULL, region varchar(500) NULL, zip_code int4 NULL, contact_number varchar(128) NULL, monday_start int4 NULL, monday_end int4 NULL, tuesday_start int4 NULL, tuesday_end int4 NULL, wednesday_start int4 NULL, wednesday_end int4 NULL, thursday_start int4 NULL, thursday_end int4 NULL, friday_start int4 NULL, friday_end int4 NULL, saturday_start int4 NULL, saturday_end int4 NULL, sunday_start int4 NULL, sunday_end int4 NULL, );\"\n",
    "prompt = \"Provide a list of clinics where dentists work on either Saturdays or Sundays.\"\n",
    "\n",
    "sql_query = text_to_sql(prompt,schema)\n",
    "print(sql_query)"
   ]
  }
 ],
 "metadata": {
  "kernelspec": {
   "display_name": "gpt_env",
   "language": "python",
   "name": "python3"
  },
  "language_info": {
   "codemirror_mode": {
    "name": "ipython",
    "version": 3
   },
   "file_extension": ".py",
   "mimetype": "text/x-python",
   "name": "python",
   "nbconvert_exporter": "python",
   "pygments_lexer": "ipython3",
   "version": "3.9.5"
  }
 },
 "nbformat": 4,
 "nbformat_minor": 2
}
