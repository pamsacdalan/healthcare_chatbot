{
 "cells": [
  {
   "cell_type": "code",
   "execution_count": 3,
   "metadata": {},
   "outputs": [],
   "source": [
    "import psycopg2\n",
    "import pandas as pd\n",
    "from datetime import datetime\n",
    "import random"
   ]
  },
  {
   "cell_type": "code",
   "execution_count": 127,
   "metadata": {},
   "outputs": [],
   "source": [
    "df = pd.read_csv(\"./dentist_rand_sched_utf.csv\")"
   ]
  },
  {
   "cell_type": "code",
   "execution_count": null,
   "metadata": {},
   "outputs": [
    {
     "data": {
      "text/html": [
       "<div>\n",
       "<style scoped>\n",
       "    .dataframe tbody tr th:only-of-type {\n",
       "        vertical-align: middle;\n",
       "    }\n",
       "\n",
       "    .dataframe tbody tr th {\n",
       "        vertical-align: top;\n",
       "    }\n",
       "\n",
       "    .dataframe thead th {\n",
       "        text-align: right;\n",
       "    }\n",
       "</style>\n",
       "<table border=\"1\" class=\"dataframe\">\n",
       "  <thead>\n",
       "    <tr style=\"text-align: right;\">\n",
       "      <th></th>\n",
       "      <th>dentist_name</th>\n",
       "      <th>clinic_name</th>\n",
       "      <th>address</th>\n",
       "      <th>city_town</th>\n",
       "      <th>province</th>\n",
       "      <th>region</th>\n",
       "      <th>zip_code</th>\n",
       "      <th>contact_number</th>\n",
       "      <th>Monday_start</th>\n",
       "      <th>Monday_end</th>\n",
       "      <th>...</th>\n",
       "      <th>Wednesday_end</th>\n",
       "      <th>Thursday_start</th>\n",
       "      <th>Thursday_end</th>\n",
       "      <th>Friday_start</th>\n",
       "      <th>Friday_end</th>\n",
       "      <th>Saturday_start</th>\n",
       "      <th>Saturday_end</th>\n",
       "      <th>Sunday_start</th>\n",
       "      <th>Sunday_end</th>\n",
       "      <th>id</th>\n",
       "    </tr>\n",
       "  </thead>\n",
       "  <tbody>\n",
       "    <tr>\n",
       "      <th>0</th>\n",
       "      <td>AIDA MAITIM JALUAG</td>\n",
       "      <td>A.M. JALUAG DENTAL CLINIC</td>\n",
       "      <td>G/F UNIT B-3 LEGASPI TOWER 300, 2600 ROXAS BLV...</td>\n",
       "      <td>MANILA</td>\n",
       "      <td>METRO MANILA</td>\n",
       "      <td>NCR</td>\n",
       "      <td>1004</td>\n",
       "      <td>5313-8506 / (0905) 433-1147</td>\n",
       "      <td>8</td>\n",
       "      <td>17</td>\n",
       "      <td>...</td>\n",
       "      <td>17</td>\n",
       "      <td>8</td>\n",
       "      <td>17</td>\n",
       "      <td>8</td>\n",
       "      <td>17</td>\n",
       "      <td>NaN</td>\n",
       "      <td>NaN</td>\n",
       "      <td>NaN</td>\n",
       "      <td>NaN</td>\n",
       "      <td>4838</td>\n",
       "    </tr>\n",
       "    <tr>\n",
       "      <th>1</th>\n",
       "      <td>ANGE LUMAWAG</td>\n",
       "      <td>L &amp; S DENTAL CARE CLINIC</td>\n",
       "      <td>7/F VIP BLDG., 1140 ROXAS BOULEVARD, ERMITA</td>\n",
       "      <td>MANILA</td>\n",
       "      <td>METRO MANILA</td>\n",
       "      <td>NCR</td>\n",
       "      <td>1000</td>\n",
       "      <td>7617-7079 / (0917) 546-6292</td>\n",
       "      <td>9</td>\n",
       "      <td>18</td>\n",
       "      <td>...</td>\n",
       "      <td>18</td>\n",
       "      <td>9</td>\n",
       "      <td>18</td>\n",
       "      <td>9</td>\n",
       "      <td>18</td>\n",
       "      <td>8.0</td>\n",
       "      <td>17.0</td>\n",
       "      <td>8.0</td>\n",
       "      <td>17.0</td>\n",
       "      <td>4839</td>\n",
       "    </tr>\n",
       "    <tr>\n",
       "      <th>2</th>\n",
       "      <td>MARJORIE JOY LIM</td>\n",
       "      <td>DENTAL WELLNESS STUDIO</td>\n",
       "      <td>UNIT GD BURGUNDY WEST BAY TOWER, 820 PABLO OCA...</td>\n",
       "      <td>MANILA</td>\n",
       "      <td>METRO MANILA</td>\n",
       "      <td>NCR</td>\n",
       "      <td>1004</td>\n",
       "      <td>5313-5746 / (0998) 573-3788</td>\n",
       "      <td>10</td>\n",
       "      <td>19</td>\n",
       "      <td>...</td>\n",
       "      <td>19</td>\n",
       "      <td>10</td>\n",
       "      <td>19</td>\n",
       "      <td>10</td>\n",
       "      <td>19</td>\n",
       "      <td>7.0</td>\n",
       "      <td>11.0</td>\n",
       "      <td>7.0</td>\n",
       "      <td>11.0</td>\n",
       "      <td>4840</td>\n",
       "    </tr>\n",
       "    <tr>\n",
       "      <th>3</th>\n",
       "      <td>CONCEPCION PONCE PEÑAFLORIDA</td>\n",
       "      <td>PONCE PEÑAFLORIDA DENTAL CLINIC</td>\n",
       "      <td>RM. 1, 2/F ARV BLDG., 1728 RIZAL AVENUE, STA. ...</td>\n",
       "      <td>MANILA</td>\n",
       "      <td>METRO MANILA</td>\n",
       "      <td>NCR</td>\n",
       "      <td>1014</td>\n",
       "      <td>8741-7260 / 7577-1833 / (0917) 516-1066</td>\n",
       "      <td>8</td>\n",
       "      <td>17</td>\n",
       "      <td>...</td>\n",
       "      <td>17</td>\n",
       "      <td>8</td>\n",
       "      <td>17</td>\n",
       "      <td>8</td>\n",
       "      <td>17</td>\n",
       "      <td>9.0</td>\n",
       "      <td>13.0</td>\n",
       "      <td>9.0</td>\n",
       "      <td>13.0</td>\n",
       "      <td>4841</td>\n",
       "    </tr>\n",
       "    <tr>\n",
       "      <th>4</th>\n",
       "      <td>MARISSA LOMOTAN</td>\n",
       "      <td>MARISSA ORIO-LOMOTAN DENTAL CENTRAL</td>\n",
       "      <td>4747 OLD STA. MESA</td>\n",
       "      <td>MANILA</td>\n",
       "      <td>METRO MANILA</td>\n",
       "      <td>NCR</td>\n",
       "      <td>1016</td>\n",
       "      <td>7219-3617 / (0917) 147-5214</td>\n",
       "      <td>10</td>\n",
       "      <td>19</td>\n",
       "      <td>...</td>\n",
       "      <td>19</td>\n",
       "      <td>10</td>\n",
       "      <td>19</td>\n",
       "      <td>10</td>\n",
       "      <td>19</td>\n",
       "      <td>NaN</td>\n",
       "      <td>NaN</td>\n",
       "      <td>NaN</td>\n",
       "      <td>NaN</td>\n",
       "      <td>4842</td>\n",
       "    </tr>\n",
       "  </tbody>\n",
       "</table>\n",
       "<p>5 rows × 23 columns</p>\n",
       "</div>"
      ],
      "text/plain": [
       "                   dentist_name                          clinic_name  \\\n",
       "0            AIDA MAITIM JALUAG            A.M. JALUAG DENTAL CLINIC   \n",
       "1                  ANGE LUMAWAG             L & S DENTAL CARE CLINIC   \n",
       "2              MARJORIE JOY LIM               DENTAL WELLNESS STUDIO   \n",
       "3  CONCEPCION PONCE PEÑAFLORIDA      PONCE PEÑAFLORIDA DENTAL CLINIC   \n",
       "4               MARISSA LOMOTAN  MARISSA ORIO-LOMOTAN DENTAL CENTRAL   \n",
       "\n",
       "                                             address city_town      province  \\\n",
       "0  G/F UNIT B-3 LEGASPI TOWER 300, 2600 ROXAS BLV...    MANILA  METRO MANILA   \n",
       "1        7/F VIP BLDG., 1140 ROXAS BOULEVARD, ERMITA    MANILA  METRO MANILA   \n",
       "2  UNIT GD BURGUNDY WEST BAY TOWER, 820 PABLO OCA...    MANILA  METRO MANILA   \n",
       "3  RM. 1, 2/F ARV BLDG., 1728 RIZAL AVENUE, STA. ...    MANILA  METRO MANILA   \n",
       "4                                 4747 OLD STA. MESA    MANILA  METRO MANILA   \n",
       "\n",
       "  region  zip_code                           contact_number  Monday_start  \\\n",
       "0    NCR      1004              5313-8506 / (0905) 433-1147             8   \n",
       "1    NCR      1000              7617-7079 / (0917) 546-6292             9   \n",
       "2    NCR      1004              5313-5746 / (0998) 573-3788            10   \n",
       "3    NCR      1014  8741-7260 / 7577-1833 / (0917) 516-1066             8   \n",
       "4    NCR      1016              7219-3617 / (0917) 147-5214            10   \n",
       "\n",
       "   Monday_end  ...  Wednesday_end  Thursday_start  Thursday_end  Friday_start  \\\n",
       "0          17  ...             17               8            17             8   \n",
       "1          18  ...             18               9            18             9   \n",
       "2          19  ...             19              10            19            10   \n",
       "3          17  ...             17               8            17             8   \n",
       "4          19  ...             19              10            19            10   \n",
       "\n",
       "   Friday_end  Saturday_start  Saturday_end  Sunday_start  Sunday_end    id  \n",
       "0          17             NaN           NaN           NaN         NaN  4838  \n",
       "1          18             8.0          17.0           8.0        17.0  4839  \n",
       "2          19             7.0          11.0           7.0        11.0  4840  \n",
       "3          17             9.0          13.0           9.0        13.0  4841  \n",
       "4          19             NaN           NaN           NaN         NaN  4842  \n",
       "\n",
       "[5 rows x 23 columns]"
      ]
     },
     "execution_count": 6,
     "metadata": {},
     "output_type": "execute_result"
    }
   ],
   "source": [
    "df.head()"
   ]
  },
  {
   "cell_type": "code",
   "execution_count": null,
   "metadata": {},
   "outputs": [
    {
     "name": "stdout",
     "output_type": "stream",
     "text": [
      "         PUJALTE DENTAL CLINIC\n",
      "         EZETHEA DENTAL CLINIC\n",
      "           C. ASTOR DENTAL HUB\n",
      "     TOOTH CHECK DENTAL CLINIC\n",
      "      MJCR ORTHO DENTAL CLINIC\n",
      "       GC TEJADA DENTAL CLINIC\n",
      "           RJKDC DENTAL CLINIC\n",
      "DRK NAVARRO DENTAL CARE CLINIC\n"
     ]
    }
   ],
   "source": [
    "# get user's location and search all dentist in that area\n",
    "user_city = \"caloocan\"\n",
    "# display clinics in that area\n",
    "dentists = df.loc[df['city_town'].str.contains(user_city.lower(),case=False)]\n",
    "dentists = dentists['clinic_name'].to_string(index=False)\n",
    "dentist_list = dentists.strip().replace('\\\\n',\"\\n\")\n",
    "print(dentist_list)"
   ]
  },
  {
   "cell_type": "code",
   "execution_count": null,
   "metadata": {},
   "outputs": [
    {
     "name": "stdout",
     "output_type": "stream",
     "text": [
      "4849\n"
     ]
    }
   ],
   "source": [
    "# choose what clinic and return id of selected clinic\n",
    "clinic_name = \"PUJALTE DENTAL CLINIC\"\n",
    "clinic_id = df.loc[df['clinic_name'].str.contains(clinic_name.lower(),case=False)]['id'].to_string(index=False)\n",
    "print(clinic_id)"
   ]
  },
  {
   "cell_type": "code",
   "execution_count": null,
   "metadata": {},
   "outputs": [
    {
     "name": "stdout",
     "output_type": "stream",
     "text": [
      "[9.]\n"
     ]
    }
   ],
   "source": [
    "# select date of appointment\n",
    "date_today = datetime.now()\n",
    "user_selected = \"12/24/2023\" # accepts mm/dd/yyyy format only for now, use date picker if available\n",
    "date_format = '%m/%d/%Y'\n",
    "user_date = datetime.strptime(user_selected, date_format)\n",
    "\n",
    "# check if date is done or not\n",
    "if user_date < date_today:\n",
    "    print(\"cant select that date\")\n",
    "else:\n",
    "    # check if selected clinic can accomodate that day\n",
    "    sch_day = user_date.strftime('%A')\n",
    "    time_start = df.loc[df['id'] == int(clinic_id)][f'{sch_day}_start'].values\n",
    "    print(time_start)\n",
    "    can_accomodate = time_start[0]>0"
   ]
  },
  {
   "cell_type": "code",
   "execution_count": null,
   "metadata": {},
   "outputs": [
    {
     "name": "stdout",
     "output_type": "stream",
     "text": [
      "INSERT INTO app_dentist_schedule (clinic_id, user_id, appointment_date, \"start\", stop) \n",
      "            VALUES (4849, 3, '2023-12-24', 9, 10)\n"
     ]
    }
   ],
   "source": [
    "# select time of appointment (in military time)\n",
    "user_time = 9\n",
    "user_id = random.randint(0,20) # wala ako access haha\n",
    "if can_accomodate:\n",
    "    # making sure selected time is within operating hours\n",
    "    if time_start[0] > user_time:\n",
    "        print(\"selected time is outside of clinic hours\")\n",
    "    else:\n",
    "        selected_start_time = user_time\n",
    "        stop_time = selected_start_time + 1\n",
    "\n",
    "# convert everything to a sql statement:\n",
    "sql_query = f'''INSERT INTO app_dentist_schedule (clinic_id, user_id, appointment_date, \"start\", stop) \n",
    "            VALUES ({clinic_id}, {user_id}, '{user_date.date().strftime('%Y-%m-%d')}', {selected_start_time}, {stop_time})'''\n",
    "print(sql_query)\n"
   ]
  },
  {
   "cell_type": "code",
   "execution_count": null,
   "metadata": {},
   "outputs": [],
   "source": [
    "# need to add reference number, service, "
   ]
  },
  {
   "cell_type": "markdown",
   "metadata": {},
   "source": [
    "CONVERT THE SELECTION TO PYTHON FUNCTIONS"
   ]
  },
  {
   "cell_type": "code",
   "execution_count": 12,
   "metadata": {},
   "outputs": [],
   "source": [
    "from dotenv import dotenv_values\n",
    "\n",
    "# loading the credentials\n",
    "db_creds = dotenv_values(\"../.env\")\n",
    "host = db_creds['URL']\n",
    "user = db_creds['USER']\n",
    "password = db_creds['PASSWORD']\n",
    "dbname = db_creds['DB']"
   ]
  },
  {
   "cell_type": "code",
   "execution_count": 17,
   "metadata": {},
   "outputs": [],
   "source": [
    "import datetime\n",
    "import psycopg2\n",
    "\n",
    "def generate_ctrl_num(date):\n",
    "    \"\"\"Accepts date and returns a control number. Add 1 to the int part of the control number if existing in DB.\"\"\"\n",
    "\n",
    "    # sample = QCYYYYMMDD001, QC20231203001\n",
    "    date_part = date.strftime(\"%Y%m%d\")\n",
    "\n",
    "    # check db if how many control number on a certain date\n",
    "    sql_query = f\"SELECT COUNT(*) FROM app_dentist_schedule WHERE reference_number ILIKE '%QC{date_part}%';\"\n",
    "    conn = psycopg2.connect(dbname=dbname, user=user, host=host, password=password)\n",
    "    cur = conn.cursor()\n",
    "    cur.execute(sql_query)\n",
    "    ans = cur.fetchall()\n",
    "\n",
    "    # add 1 to count \n",
    "    num = int(ans[0][0]) + 1\n",
    "    num_part = str(num).rjust(3, \"0\")\n",
    "    return f'QC{date_part}{num_part}'"
   ]
  },
  {
   "cell_type": "code",
   "execution_count": 8,
   "metadata": {},
   "outputs": [
    {
     "name": "stdout",
     "output_type": "stream",
     "text": [
      "2023-12-24\n"
     ]
    }
   ],
   "source": [
    "print(datetime.datetime(2023,12,24).date())"
   ]
  },
  {
   "cell_type": "code",
   "execution_count": 18,
   "metadata": {},
   "outputs": [
    {
     "name": "stdout",
     "output_type": "stream",
     "text": [
      "[(0,)]\n",
      "QC20231224001\n"
     ]
    }
   ],
   "source": [
    "samp_date = datetime.datetime(2023,12,24).date()\n",
    "generate_ctrl_num(samp_date)"
   ]
  },
  {
   "cell_type": "code",
   "execution_count": null,
   "metadata": {},
   "outputs": [],
   "source": [
    "insert into app_dentist_schedule (clinic_id, user_id, appointment_date, \"start\", stop, procedure_type, reference_number)\n",
    "values (4849, 1234, '2023-12-23', 9, 10, 'Fillings', 'QC20231223001');"
   ]
  },
  {
   "cell_type": "code",
   "execution_count": 3,
   "metadata": {},
   "outputs": [],
   "source": [
    "def paginator(array):\n",
    "    \"\"\"This function accepts array and will return a string. Displays only 5 per page. Returns string value of the selected option from array.\"\"\"\n",
    "\n",
    "    if len(array) == 5:\n",
    "        choices = []\n",
    "        for i in range(len(array)):\n",
    "            print(f\"{i} | {array[i]}\")\n",
    "            choices.append(array[i].lower())\n",
    "\n",
    "        x = ''\n",
    "        cont = True\n",
    "        while cont:\n",
    "            x = input(\"Type the number or value to continue\")\n",
    "\n",
    "            if x.lower() == 'q':\n",
    "                cont = False\n",
    "                print('Selecting aborted')\n",
    "                break\n",
    "            elif type(x) == str and x.lower() in choices:\n",
    "                print(f'You selected {x}')\n",
    "                cont = False\n",
    "                return x.upper()\n",
    "            else:\n",
    "                try: \n",
    "                    x = int(x)\n",
    "                    if choices[x] in choices:\n",
    "                        print(f'You selected {choices[x].upper()}')\n",
    "                        cont = False\n",
    "                        return choices[x].upper()\n",
    "                except:\n",
    "                    pass\n",
    "\n",
    "    else:\n",
    "        n = (len(array) // 5)\n",
    "        if (len(array) % 5) == 0:\n",
    "            n_page = n\n",
    "        else:\n",
    "            n_page = n + 1\n",
    "\n",
    "        choices = []\n",
    "        cur_pos = 0\n",
    "\n",
    "        for i in range(n_page + 1):\n",
    "            if i == n_page:\n",
    "                s = slice(cur_pos, -1)\n",
    "                sub_choice = array[s]\n",
    "                choices.append(sub_choice)\n",
    "            else:\n",
    "                sub_choice = []\n",
    "                s = slice(cur_pos, cur_pos+5)\n",
    "                sub_choice = array[s]\n",
    "                choices.append(sub_choice)\n",
    "                cur_pos += 5\n",
    "\n",
    "        curr_page = 0\n",
    "        print(f'{curr_page+1}/{n_page} page - {len(array)} options \\n')\n",
    "\n",
    "        for i in range(len(choices[curr_page])):\n",
    "            print(f\"{i} | {choices[curr_page][i]}\")\n",
    "\n",
    "        print(\"\\n\")\n",
    "    \n",
    "        x = ''\n",
    "        cont = True\n",
    "        while cont:\n",
    "            x = input(\"Type the number or value to continue. Type 'next page' or 'previous page' to change options.\\n\")\n",
    "\n",
    "            if x.lower() == 'q':\n",
    "                cont = False\n",
    "                print('Selecting aborted')\n",
    "                break\n",
    "            elif x.lower() == 'next page':\n",
    "                if (len(array) % 5) == 0:\n",
    "                    if curr_page >= (len(array) // 5) -1:\n",
    "                        print(\"This is the last page\")\n",
    "                    elif curr_page < n_page:\n",
    "                        curr_page += 1\n",
    "                        print(f'{curr_page+1}/{n_page} page - {len(array)} options \\n')\n",
    "\n",
    "                        for i in range(len(choices[curr_page])):\n",
    "                            print(f\"{i} | {choices[curr_page][i]}\")\n",
    "                        print(\"\\n\")\n",
    "                else:\n",
    "                    if curr_page >= (len(array) // 5):\n",
    "                        print(\"This is the last page\")\n",
    "                    elif curr_page < n_page:\n",
    "                        curr_page += 1\n",
    "                        print(f'{curr_page+1}/{n_page} page - {len(array)} options \\n')\n",
    "\n",
    "                        for i in range(len(choices[curr_page])):\n",
    "                            print(f\"{i} | {choices[curr_page][i]}\")\n",
    "                        print(\"\\n\")\n",
    "            elif x.lower() == 'previous page':\n",
    "                if curr_page > 0:\n",
    "                    curr_page -= 1\n",
    "                    print(f'{curr_page+1}/{n_page} page - {len(array)} options \\n')\n",
    "\n",
    "                    for i in range(len(choices[curr_page])):\n",
    "                        print(f\"{i} | {choices[curr_page][i]}\")\n",
    "                    print(\"\\n\")\n",
    "                else:\n",
    "                    print(\"This is the first page\")\n",
    "            elif type(x) == str  and x.upper() in choices[curr_page]:\n",
    "                print(f'You selected {x}')\n",
    "                cont = False\n",
    "                return x.upper()\n",
    "            else:\n",
    "                try: \n",
    "                    x = int(x)\n",
    "                    if choices[curr_page][x] in choices[curr_page]:\n",
    "                        print(f'You selected {choices[curr_page][x].upper()}')\n",
    "                        cont = False\n",
    "                        return choices[curr_page][x].upper()\n",
    "                except:\n",
    "                    pass"
   ]
  },
  {
   "cell_type": "code",
   "execution_count": 198,
   "metadata": {},
   "outputs": [],
   "source": [
    "test_array = [\"A\",\"B\",\"C\",\"D\",\"E\",\"F\", \"G\", \"H\", \"I\", \"J\", \"K\"]\n",
    "prodedures = [\"Dental Cleanings\", \"Fillings\", \"Root Canal Therapy\", \"Tooth Extraction\", \"Crowns\", \"Bridges\", \"Dental Implants\", \"Dentures\", \"Teeth Whitening\", \"Dental Checkup\"]\n",
    "test_array_2 = [\"A\",\"B\",\"C\",\"D\",\"E\"]"
   ]
  },
  {
   "cell_type": "code",
   "execution_count": 13,
   "metadata": {},
   "outputs": [],
   "source": [
    "import pandas as pd\n",
    "\n",
    "def city_selector(location):\n",
    "    \"\"\"Takes the user's city as parameters. Returns array of dentists based on user's selected city.\"\"\"\n",
    "    \n",
    "    # loading csv\n",
    "    df = pd.read_csv(\"./dentist_rand_sched_utf.csv\")\n",
    "\n",
    "    while True:\n",
    "        x = input(f\"Current location is {location}. Type 'Y' to proceed or type another city.\")\n",
    "        \n",
    "        if x.lower == 'q':\n",
    "            break\n",
    "        elif x.lower() == 'y':\n",
    "            dentists = df.loc[df['city_town'].str.contains(location.lower(),case=False)] # not exact match for now\n",
    "            return dentists['clinic_name'].values.tolist()\n",
    "        else:\n",
    "            try:\n",
    "                dentists = df.loc[df['city_town'].str.contains(x.lower(),case=False)] \n",
    "                location = x\n",
    "            except:\n",
    "                print(\"Cannot find dentist in your location. Print another location\")"
   ]
  },
  {
   "cell_type": "code",
   "execution_count": 14,
   "metadata": {},
   "outputs": [
    {
     "data": {
      "text/plain": [
       "['PUJALTE DENTAL CLINIC',\n",
       " 'EZETHEA DENTAL CLINIC',\n",
       " 'C. ASTOR DENTAL HUB',\n",
       " 'TOOTH CHECK DENTAL CLINIC',\n",
       " 'MJCR ORTHO DENTAL CLINIC',\n",
       " 'GC TEJADA DENTAL CLINIC',\n",
       " 'RJKDC DENTAL CLINIC',\n",
       " 'DRK NAVARRO DENTAL CARE CLINIC']"
      ]
     },
     "execution_count": 14,
     "metadata": {},
     "output_type": "execute_result"
    }
   ],
   "source": [
    "city_selector(\"Manila\")"
   ]
  },
  {
   "cell_type": "code",
   "execution_count": 8,
   "metadata": {},
   "outputs": [],
   "source": [
    "def dentist_selector(dentist_list):\n",
    "    print(\"Please select a clinic \\n\")\n",
    "\n",
    "    dentist = paginator(dentist_list)\n",
    "    return dentist  "
   ]
  },
  {
   "cell_type": "code",
   "execution_count": 6,
   "metadata": {},
   "outputs": [],
   "source": [
    "def procedure_selector():\n",
    "    procedure_list = [\"Dental Cleanings\", \"Fillings\", \"Root Canal Therapy\", \"Tooth Extraction\", \"Crowns\", \"Bridges\", \"Dental Implants\", \"Dentures\", \"Teeth Whitening\", \"Dental Checkup\"]\n",
    "\n",
    "    procedure = paginator(procedure_list)\n",
    "    return procedure"
   ]
  },
  {
   "cell_type": "code",
   "execution_count": 7,
   "metadata": {},
   "outputs": [],
   "source": [
    "def get_clinic_id(clinic_name, city):\n",
    "    \"\"\"Accepts clinic name and city as parameters. Returns id of the said clinic in the selected city.\"\"\"\n",
    "    clinic_name = clinic_name.strip()\n",
    "    # loading csv\n",
    "    df = pd.read_csv(\"./dentist_rand_sched_utf.csv\")\n",
    "    \n",
    "    try:\n",
    "        clinic_id = df.loc[(df['clinic_name'].str.contains(clinic_name.lower(),case=False)) & df['city_town'].str.contains(city.lower(),case=False)]['id'].to_string(index=False)\n",
    "        return int(clinic_id)\n",
    "    except:\n",
    "        return \"Cannot find selected clinic\""
   ]
  },
  {
   "cell_type": "code",
   "execution_count": 5,
   "metadata": {},
   "outputs": [],
   "source": [
    "def date_selector(clinic_id):\n",
    "    \"\"\"Must input clinic id as parameter. Displays clinic's operation hours. Returns date in %Y-%m-%d, start_time and end_time.\"\"\"\n",
    "\n",
    "    df = pd.read_csv(\"./dentist_rand_sched_utf.csv\")\n",
    "    \n",
    "    # select date of appointment\n",
    "    date_today = datetime.now()\n",
    "    # user_selected = \"12/24/2023\"\n",
    "    # # accepts mm/dd/yyyy format only for now, use date picker if available\n",
    "    date_format = '%m/%d/%Y'\n",
    "\n",
    "    days = [\"Monday\", \"Tuesday\", \"Wednesday\", \"Thursday\", \"Friday\", \"Saturday\", \"Sunday\"]\n",
    "    print(\"Operating hours:\")\n",
    "    for day in days:\n",
    "        time_start = df.loc[df['id'] == int(clinic_id)][f'{day}_start'].values\n",
    "        if time_start >= 0:\n",
    "            time_end = df.loc[df['id'] == int(clinic_id)][f'{day}_end'].values\n",
    "            print(f\"{day} | {int(time_start[0])}:00 - {int(time_end[0])}:00\")\n",
    "\n",
    "    while True:\n",
    "        user_selected = input(\"Please type desired date in mm/dd/yyyy format.\")\n",
    "        # check if date is done or not\n",
    "        try:\n",
    "            user_date = datetime.strptime(user_selected, date_format)\n",
    "            if user_date < date_today:\n",
    "                print(\"cant select that date\") # change error message para maganda\n",
    "            else:\n",
    "                # check if selected clinic can accomodate that day\n",
    "                sch_day = user_date.strftime('%A')\n",
    "                # time_start = df.loc[df['id'] == int(clinic_id)][f'{sch_day}_start'].values\n",
    "\n",
    "                # user_time = str(input('Select desired time'))\n",
    "                # if user_time >= time_start:\n",
    "                #     selected_start = user_time\n",
    "                # else:\n",
    "                #     print(\"Please select a valid time\")\n",
    "                return user_date.date()\n",
    "        except:\n",
    "            if user_selected.lower() == 'q':\n",
    "                break\n",
    "            else:\n",
    "                print(\"Not a date bro\") # Change message here"
   ]
  },
  {
   "cell_type": "code",
   "execution_count": 10,
   "metadata": {},
   "outputs": [
    {
     "name": "stdout",
     "output_type": "stream",
     "text": [
      "Operating hours:\n",
      "Monday | 8:00 - 17:00\n",
      "Tuesday | 8:00 - 17:00\n",
      "Wednesday | 8:00 - 17:00\n",
      "Thursday | 8:00 - 17:00\n",
      "Friday | 8:00 - 17:00\n",
      "Saturday | 9:00 - 18:00\n",
      "Sunday | 9:00 - 18:00\n"
     ]
    }
   ],
   "source": [
    "x = date_selector(4849)"
   ]
  },
  {
   "cell_type": "code",
   "execution_count": 8,
   "metadata": {},
   "outputs": [],
   "source": [
    "def time_selector(date, clinic_id):\n",
    "    df = pd.read_csv(\"./dentist_rand_sched_utf.csv\")\n",
    "    day = date.strftime('%A')\n",
    "    time_start = df.loc[df['id'] == int(clinic_id)][f'{day}_start'].values\n",
    "\n",
    "    while True:\n",
    "        user_time = input(\"Type desired time. Use 24 hr format and omit the :00\")\n",
    "        try:\n",
    "            user_time = int(user_time)\n",
    "            if int(user_time) >= time_start:\n",
    "                return user_time\n",
    "            elif int(user_time) < time_start:\n",
    "                print(f'Operating hours on {day}s starts at {int(time_start[0])}:00')\n",
    "        except:\n",
    "            print(\"Please type in integer only.\")"
   ]
  },
  {
   "cell_type": "code",
   "execution_count": 11,
   "metadata": {},
   "outputs": [
    {
     "name": "stdout",
     "output_type": "stream",
     "text": [
      "Operating hours on Saturdays starts at 9:00\n",
      "Operating hours on Saturdays starts at 9:00\n",
      "Please type in integer only.\n"
     ]
    },
    {
     "data": {
      "text/plain": [
       "9"
      ]
     },
     "execution_count": 11,
     "metadata": {},
     "output_type": "execute_result"
    }
   ],
   "source": [
    "time_selector(x, 4849)"
   ]
  },
  {
   "cell_type": "code",
   "execution_count": 11,
   "metadata": {},
   "outputs": [],
   "source": [
    "def set_appointment():\n",
    "    \"\"\"Sets appointment using series of questions. Returns sql INSERT statement.\"\"\"\n",
    "    \n",
    "    city = \"Manila\"\n",
    "    procedure = procedure_selector()\n",
    "    print(\"\\n\")\n",
    "    clinic_list = city_selector(city)\n",
    "    print(\"\\n\")\n",
    "    clinic = dentist_selector(clinic_list)\n",
    "    print(\"\\n\")\n",
    "    clinic_id = get_clinic_id(clinic, city)\n",
    "    print(\"\\n\")\n",
    "    apt_date = date_selector(clinic_id)\n",
    "    print(\"\\n\")\n",
    "    time_start = time_selector(apt_date, clinic_id)\n",
    "\n",
    "    print(f\"\"\"APPOINTMENT SUMMARY:\n",
    "{procedure} at {clinic} on {apt_date.strftime('%m/%d/%Y')}, {time_start}:00 - {time_start + 1}:00\"\"\")"
   ]
  }
 ],
 "metadata": {
  "kernelspec": {
   "display_name": "gpt_env",
   "language": "python",
   "name": "python3"
  },
  "language_info": {
   "codemirror_mode": {
    "name": "ipython",
    "version": 3
   },
   "file_extension": ".py",
   "mimetype": "text/x-python",
   "name": "python",
   "nbconvert_exporter": "python",
   "pygments_lexer": "ipython3",
   "version": "3.9.5"
  }
 },
 "nbformat": 4,
 "nbformat_minor": 2
}
