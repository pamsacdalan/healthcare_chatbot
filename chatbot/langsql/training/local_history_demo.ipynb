{
 "cells": [
  {
   "cell_type": "code",
   "execution_count": 1,
   "metadata": {},
   "outputs": [],
   "source": [
    "from langchain import PromptTemplate, LLMChain\n",
    "from langchain.llms import CTransformers\n",
    "from langchain.chains import ConversationChain\n",
    "from langchain.chains.conversation.memory import ConversationBufferWindowMemory"
   ]
  },
  {
   "cell_type": "code",
   "execution_count": 2,
   "metadata": {},
   "outputs": [
    {
     "name": "stderr",
     "output_type": "stream",
     "text": [
      "d:\\DE Projects\\gpt_env\\lib\\site-packages\\tqdm\\auto.py:21: TqdmWarning: IProgress not found. Please update jupyter and ipywidgets. See https://ipywidgets.readthedocs.io/en/stable/user_install.html\n",
      "  from .autonotebook import tqdm as notebook_tqdm\n"
     ]
    }
   ],
   "source": [
    "# loading the model and defining the memory\n",
    "llm = CTransformers(model=\"./models/llama-2-7b-chat.Q2_K.gguf\", model_type=\"llama\", max_new_tokens=512, temperature=0.1)\n",
    "memory = ConversationBufferWindowMemory(\n",
    "    memory_key=\"history\", k=6, return_only_outputs=True\n",
    ")"
   ]
  },
  {
   "cell_type": "code",
   "execution_count": 9,
   "metadata": {},
   "outputs": [],
   "source": [
    "# creating the prompt for the chatbot\n",
    "template = \"\"\"\n",
    "You are an AI assistant and your task is to answer user's question and return the answer in a concise way.\n",
    "\n",
    "Current Conversation:\n",
    "{history}\n",
    "\n",
    "Query: {input}\n",
    "\n",
    "You just return helpful answer and nothing else\n",
    "Helpful Answer:\n",
    "\"\"\".strip()\n",
    "\n",
    "prompt = PromptTemplate(input_variables=[\"history\", \"input\"], template=template)"
   ]
  },
  {
   "cell_type": "code",
   "execution_count": 10,
   "metadata": {},
   "outputs": [],
   "source": [
    "# Creating a Conversation Chain\n",
    "chain = ConversationChain(llm=llm, memory=memory, prompt=prompt, verbose=True)"
   ]
  },
  {
   "cell_type": "code",
   "execution_count": 11,
   "metadata": {},
   "outputs": [
    {
     "name": "stdout",
     "output_type": "stream",
     "text": [
      "\n",
      "\n",
      "\u001b[1m> Entering new ConversationChain chain...\u001b[0m\n",
      "Prompt after formatting:\n",
      "\u001b[32;1m\u001b[1;3mYou are an AI assistant and your task is to answer user's question and return the answer in a concise way.\n",
      "\n",
      "Current Conversation:\n",
      "Human: What is an HMO, an how can it help me in my budgetting?\n",
      "AI:  I apologize but I am not familiar with the term \"HMO\". Could you please provide more context or clarify what you mean by this term?\n",
      "Please let me know if there's anything else I can assist you with.\n",
      "\n",
      "Query: What is an HMO, an how can it help me in my budgetting?\n",
      "\n",
      "You just return helpful answer and nothing else\n",
      "Helpful Answer:\u001b[0m\n",
      "\n",
      "\u001b[1m> Finished chain.\u001b[0m\n",
      " An HMO stands for Health Maintenance Organization, a type of health insurance plan that provides coverage for medical expenses. By having an HMO, you may be able to reduce your out-of-pocket costs for medical services, which can help you manage your budget. However, it's important to carefully review the terms and conditions of any health insurance plan before enrolling to ensure it meets your needs and budget constraints. Would you like me to explain more about HMOs or help with something else?\n"
     ]
    }
   ],
   "source": [
    "text = \"What is an HMO, an how can it help me in my budgetting?\"\n",
    "response = chain.predict(input=text)\n",
    "print(response)"
   ]
  },
  {
   "cell_type": "code",
   "execution_count": 12,
   "metadata": {},
   "outputs": [
    {
     "name": "stdout",
     "output_type": "stream",
     "text": [
      "\n",
      "\n",
      "\u001b[1m> Entering new ConversationChain chain...\u001b[0m\n",
      "Prompt after formatting:\n",
      "\u001b[32;1m\u001b[1;3mYou are an AI assistant and your task is to answer user's question and return the answer in a concise way.\n",
      "\n",
      "Current Conversation:\n",
      "Human: What is an HMO, an how can it help me in my budgetting?\n",
      "AI:  I apologize but I am not familiar with the term \"HMO\". Could you please provide more context or clarify what you mean by this term?\n",
      "Please let me know if there's anything else I can assist you with.\n",
      "Human: What is an HMO, an how can it help me in my budgetting?\n",
      "AI:  An HMO stands for Health Maintenance Organization, a type of health insurance plan that provides coverage for medical expenses. By having an HMO, you may be able to reduce your out-of-pocket costs for medical services, which can help you manage your budget. However, it's important to carefully review the terms and conditions of any health insurance plan before enrolling to ensure it meets your needs and budget constraints. Would you like me to explain more about HMOs or help with something else?\n",
      "\n",
      "Query: What does it stand for?\n",
      "\n",
      "You just return helpful answer and nothing else\n",
      "Helpful Answer:\u001b[0m\n",
      "\n",
      "\u001b[1m> Finished chain.\u001b[0m\n",
      " It stands for Health Maintenance Organization.\n"
     ]
    }
   ],
   "source": [
    "text2 = \"What does it stand for?\"\n",
    "response = chain.predict(input=text2)\n",
    "print(response)"
   ]
  },
  {
   "cell_type": "code",
   "execution_count": 13,
   "metadata": {},
   "outputs": [
    {
     "name": "stdout",
     "output_type": "stream",
     "text": [
      "\n",
      "\n",
      "\u001b[1m> Entering new ConversationChain chain...\u001b[0m\n",
      "Prompt after formatting:\n",
      "\u001b[32;1m\u001b[1;3mYou are an AI assistant and your task is to answer user's question and return the answer in a concise way.\n",
      "\n",
      "Current Conversation:\n",
      "Human: What is an HMO, an how can it help me in my budgetting?\n",
      "AI:  I apologize but I am not familiar with the term \"HMO\". Could you please provide more context or clarify what you mean by this term?\n",
      "Please let me know if there's anything else I can assist you with.\n",
      "Human: What is an HMO, an how can it help me in my budgetting?\n",
      "AI:  An HMO stands for Health Maintenance Organization, a type of health insurance plan that provides coverage for medical expenses. By having an HMO, you may be able to reduce your out-of-pocket costs for medical services, which can help you manage your budget. However, it's important to carefully review the terms and conditions of any health insurance plan before enrolling to ensure it meets your needs and budget constraints. Would you like me to explain more about HMOs or help with something else?\n",
      "Human: What does it stand for?\n",
      "AI:  It stands for Health Maintenance Organization.\n",
      "\n",
      "Query: How does it differ from PPO?\n",
      "\n",
      "You just return helpful answer and nothing else\n",
      "Helpful Answer:\u001b[0m\n",
      "\n",
      "\u001b[1m> Finished chain.\u001b[0m\n",
      " An HMO differs from a Preferred Provider Organization (PPO) in that an HMO typically has a smaller network of providers who have negotiated lower rates with the insurer. With an HMO, you may be required to see doctors within your plan's network or face higher out-of-pocket costs. PPOs, on the other hand, allow you to see any medical provider you choose, but you may pay more for services received from providers outside of your plan's network.\n"
     ]
    }
   ],
   "source": [
    "text3 = \"How does it differ from PPO?\"\n",
    "response = chain.predict(input=text3)\n",
    "print(response)"
   ]
  }
 ],
 "metadata": {
  "kernelspec": {
   "display_name": "gpt_env",
   "language": "python",
   "name": "python3"
  },
  "language_info": {
   "codemirror_mode": {
    "name": "ipython",
    "version": 3
   },
   "file_extension": ".py",
   "mimetype": "text/x-python",
   "name": "python",
   "nbconvert_exporter": "python",
   "pygments_lexer": "ipython3",
   "version": "3.9.5"
  }
 },
 "nbformat": 4,
 "nbformat_minor": 2
}
